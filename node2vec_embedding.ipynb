{
 "cells": [
  {
   "cell_type": "code",
   "execution_count": null,
   "metadata": {},
   "outputs": [],
   "source": [
    "import os\n",
    "import networkx as nx\n",
    "from node2vec import Node2Vec\n",
    "import numpy as np"
   ]
  },
  {
   "cell_type": "code",
   "execution_count": null,
   "metadata": {},
   "outputs": [],
   "source": [
    "def embed2(G, file_path):\n",
    "  node2vec = Node2Vec(G, dimensions=64, walk_length=30, num_walks=200, workers=4)\n",
    "  model = node2vec.fit(window=10, min_count=1, batch_words=4)\n",
    "  embeddings = {node: model.wv[node] for node in G.nodes}\n",
    "  \n",
    "  smallSetEmbeddings = sum(embeddings.values()) / len(embeddings)\n",
    "  np.save(file_path, smallSetEmbeddings)"
   ]
  },
  {
   "cell_type": "code",
   "execution_count": null,
   "metadata": {},
   "outputs": [],
   "source": [
    "graph_dir = \"data/graph_models/trees\"\n",
    "save_dir = \"data/node2vec/trees_compressed\"\n",
    "\n",
    "if not os.path.exists(save_dir):\n",
    "   os.makedirs(save_dir)\n",
    "\n",
    "i = 1\n",
    "n = len(os.listdir(graph_dir))\n",
    "for file_name in os.listdir(graph_dir):\n",
    "    file_path = os.path.join(graph_dir, file_name)\n",
    "    if file_path.endswith(\".dat\"):  # Assuming your graphs are stored as text files\n",
    "        graph = nx.read_edgelist(file_path)\n",
    "        arr = file_name.split(\"_\")\n",
    "        label = arr[len(arr) - 1]  # Extract label from file name\n",
    "        path = save_dir + \"/\" + file_name\n",
    "        embed2(graph, path)\n",
    "        print(i, file_name, \"completed\", \"%\", (i / n) * 100)\n",
    "    i = i + 1"
   ]
  },
  {
   "cell_type": "code",
   "execution_count": null,
   "metadata": {},
   "outputs": [],
   "source": []
  }
 ],
 "metadata": {
  "kernelspec": {
   "display_name": "Python 3",
   "language": "python",
   "name": "python3"
  },
  "language_info": {
   "codemirror_mode": {
    "name": "ipython",
    "version": 3
   },
   "file_extension": ".py",
   "mimetype": "text/x-python",
   "name": "python",
   "nbconvert_exporter": "python",
   "pygments_lexer": "ipython3",
   "version": "3.8.0"
  }
 },
 "nbformat": 4,
 "nbformat_minor": 2
}
