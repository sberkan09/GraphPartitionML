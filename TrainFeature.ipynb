{
 "cells": [
  {
   "cell_type": "code",
   "execution_count": 1,
   "metadata": {},
   "outputs": [
    {
     "name": "stderr",
     "output_type": "stream",
     "text": [
      "c:\\Users\\Sami Berkan\\AppData\\Local\\Programs\\Python\\Python38\\lib\\site-packages\\tqdm\\auto.py:21: TqdmWarning: IProgress not found. Please update jupyter and ipywidgets. See https://ipywidgets.readthedocs.io/en/stable/user_install.html\n",
      "  from .autonotebook import tqdm as notebook_tqdm\n"
     ]
    }
   ],
   "source": [
    "import os\n",
    "import networkx as nx\n",
    "from node2vec import Node2Vec\n",
    "from sklearn.model_selection import train_test_split\n",
    "from sklearn.ensemble import RandomForestClassifier\n",
    "from sklearn.metrics import accuracy_score"
   ]
  },
  {
   "cell_type": "code",
   "execution_count": 2,
   "metadata": {},
   "outputs": [],
   "source": [
    "graph_dir = \"data/sample_set\"\n",
    "graphs = []\n",
    "labels = []\n",
    "\n",
    "for file_name in os.listdir(graph_dir):\n",
    "    file_path = os.path.join(graph_dir, file_name)\n",
    "    if file_path.endswith(\".dat\"):  # Assuming your graphs are stored as text files\n",
    "        graph = nx.read_edgelist(file_path)\n",
    "        arr = file_name.split(\"_\")\n",
    "        label = arr[len(arr) - 1]  # Extract label from file name\n",
    "        graphs.append(graph)\n",
    "        labels.append(label)"
   ]
  },
  {
   "cell_type": "code",
   "execution_count": 3,
   "metadata": {},
   "outputs": [
    {
     "name": "stderr",
     "output_type": "stream",
     "text": [
      "Computing transition probabilities: 100%|██████████| 1000/1000 [00:00<00:00, 5294.19it/s]\n"
     ]
    }
   ],
   "source": [
    "# Node2Vec graph embedding\n",
    "smallSetEmbeddings = {}\n",
    "\n",
    "for graph in graphs:\n",
    "    # Node2Vec embedding for each graph\n",
    "    node2vec = Node2Vec(graph, dimensions=64, walk_length=30, num_walks=200, workers=4)\n",
    "    model = node2vec.fit(window=10, min_count=1, batch_words=4)\n",
    "    embeddings = {node: model.wv[node] for node in graph.nodes}\n",
    "    \n",
    "    # Aggregate node embeddings (e.g., average)\n",
    "    smallSetEmbeddings = sum(embeddings.values()) / len(embeddings)\n",
    "    \n",
    "    # Store graph embedding\n",
    "    smallSetEmbeddings[graph] = smallSetEmbeddings\n",
    "\n",
    "# Feature Extraction\n",
    "X = list(smallSetEmbeddings.values())\n",
    "y = labels"
   ]
  },
  {
   "cell_type": "code",
   "execution_count": null,
   "metadata": {},
   "outputs": [],
   "source": [
    "# Node2Vec graph embedding\n",
    "graph_embeddings = {}\n",
    "\n",
    "for graph in graphs:\n",
    "    # Node2Vec embedding for each graph\n",
    "    node2vec = Node2Vec(graph, dimensions=64, walk_length=30, num_walks=200, workers=4)\n",
    "    model = node2vec.fit(window=10, min_count=1, batch_words=4)\n",
    "    embeddings = {node: model.wv[node] for node in graph.nodes}\n",
    "    \n",
    "    # Aggregate node embeddings (e.g., average)\n",
    "    graph_embedding = sum(embeddings.values()) / len(embeddings)\n",
    "    \n",
    "    # Store graph embedding\n",
    "    graph_embeddings[graph] = graph_embedding\n",
    "\n",
    "# Feature Extraction\n",
    "X = list(graph_embeddings.values())\n",
    "y = labels\n"
   ]
  },
  {
   "cell_type": "code",
   "execution_count": null,
   "metadata": {},
   "outputs": [],
   "source": [
    "X_train, X_test, y_train, y_test = train_test_split(X, y, test_size=0.2, random_state=42)"
   ]
  },
  {
   "cell_type": "code",
   "execution_count": null,
   "metadata": {},
   "outputs": [],
   "source": [
    "rf_model = RandomForestClassifier(n_estimators=100, random_state=42)\n",
    "rf_model.fit(X_train, y_train)"
   ]
  },
  {
   "cell_type": "code",
   "execution_count": null,
   "metadata": {},
   "outputs": [],
   "source": [
    "# Make predictions\n",
    "y_pred = rf_model.predict(X_test)\n",
    "\n",
    "# Evaluate the model\n",
    "accuracy = accuracy_score(y_test, y_pred)\n",
    "print(f\"Random Forest Accuracy: {accuracy}\")"
   ]
  },
  {
   "cell_type": "code",
   "execution_count": null,
   "metadata": {},
   "outputs": [],
   "source": []
  }
 ],
 "metadata": {
  "kernelspec": {
   "display_name": "Python 3",
   "language": "python",
   "name": "python3"
  },
  "language_info": {
   "codemirror_mode": {
    "name": "ipython",
    "version": 3
   },
   "file_extension": ".py",
   "mimetype": "text/x-python",
   "name": "python",
   "nbconvert_exporter": "python",
   "pygments_lexer": "ipython3",
   "version": "3.8.0"
  }
 },
 "nbformat": 4,
 "nbformat_minor": 2
}
