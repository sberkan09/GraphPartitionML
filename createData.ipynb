{
 "cells": [
  {
   "cell_type": "code",
   "execution_count": 1,
   "metadata": {},
   "outputs": [],
   "source": [
    "import networkx as nx\n",
    "import os\n",
    "\n",
    "# Create a directory to store .dat files\n",
    "if not os.path.exists(\"graphs_data\"):\n",
    "    os.makedirs(\"graphs_data\")\n",
    "\n",
    "def generate_and_save_graphs(model, num_graphs, graph_size, probability):\n",
    "    #m, k, p ve d değişkenler; bunları değiştirerek üretin\n",
    "    #m=Number of edges to attach from a new node to existing nodes\n",
    "    #n=Number of nodes in graph\n",
    "    #k=Each node is connected to k nearest neighbors\n",
    "    #p=Probability of edge existence\n",
    "    #d=Degree of each node\n",
    "    for i in range(num_graphs):\n",
    "        # Generate a random graph based on the specified model\n",
    "        if model == \"erdos_renyi\":\n",
    "            G = nx.erdos_renyi_graph(graph_size, probability)\n",
    "        elif model == \"barabasi_albert\":\n",
    "            m = 2  # Define m before using it\n",
    "            G = nx.barabasi_albert_graph(graph_size, m)\n",
    "        elif model == \"watts_strogatz\":\n",
    "            k = 2  # Define k before using it\n",
    "            G = nx.watts_strogatz_graph(graph_size, k, probability)\n",
    "        elif model == \"random_regular\":\n",
    "            d = 4  # Define d before using it\n",
    "            G = nx.random_regular_graph(d, graph_size)\n",
    "        elif model == \"random_geometric\":\n",
    "            G = nx.random_geometric_graph(graph_size, probability)\n",
    "        # Save the graph to a .dat file\n",
    "        file_path = f\"graphs_data/{model}_graph_{i + 1}.dat\"\n",
    "        edge_list = nx.to_edgelist(G)\n",
    "        with open(file_path, \"w\") as file:\n",
    "            for edge in edge_list:\n",
    "                file.write(f\"{edge[0]} {edge[1]}\\n\")\n",
    "\n",
    "\n",
    "# Parameters\n",
    "num_graphs_per_model = 1\n",
    "#bu da değişebilir her modelin graph sayısı\n",
    "n = 15\n",
    "p = 0.2\n",
    "\n",
    "# Generate and save graphs for each model\n",
    "models = [\"erdos_renyi\", \"barabasi_albert\", \"watts_strogatz\", \"random_regular\", \"random_geometric\"]\n",
    "for model in models:\n",
    "    generate_and_save_graphs(model, num_graphs_per_model, n, p)\n"
   ]
  },
  {
   "cell_type": "code",
   "execution_count": null,
   "metadata": {},
   "outputs": [],
   "source": []
  }
 ],
 "metadata": {
  "kernelspec": {
   "display_name": "Python 3",
   "language": "python",
   "name": "python3"
  },
  "language_info": {
   "codemirror_mode": {
    "name": "ipython",
    "version": 3
   },
   "file_extension": ".py",
   "mimetype": "text/x-python",
   "name": "python",
   "nbconvert_exporter": "python",
   "pygments_lexer": "ipython3",
   "version": "3.8.0"
  }
 },
 "nbformat": 4,
 "nbformat_minor": 2
}
